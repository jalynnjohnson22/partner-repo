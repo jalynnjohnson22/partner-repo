{
 "cells": [
  {
   "cell_type": "code",
   "execution_count": 1,
   "metadata": {},
   "outputs": [
    {
     "name": "stdin",
     "output_type": "stream",
     "text": [
      "Enter your name: Carter\n",
      "Hi, Carter! Enter the number that corresponds with your birthday month:  10\n"
     ]
    },
    {
     "name": "stdout",
     "output_type": "stream",
     "text": [
      "Those born in the coldest times carry the warmest hearts. Happy early birthday!\n"
     ]
    }
   ],
   "source": [
    "name = input(\"Enter your name:\")\n",
    "\n",
    "try:\n",
    "    birthday_month = int(input(\"Hi, \" + name + \"! Enter the number that corresponds with your birthday month: \"))\n",
    "    \n",
    "    if birthday_month == 1 or birthday_month == 2:\n",
    "        print(\"Happy belated birthday!\")\n",
    "    elif birthday_month >= 3 and birthday_month <= 5: \n",
    "        print(\"Your birthday is coming up! Get excited!\")\n",
    "    #Carter, this is where you can add a few lines to make elif and print statements for the other birthday months\n",
    "    elif birthday_month >=6 and birthday_month <= 8:\n",
    "        print(\"Ooo a summer birthday. Sounds like a blast!\")\n",
    "    elif birthday_month >=9 and birthday_month <= 12:\n",
    "        print(\"Those born in the coldest times carry the warmest hearts. Happy early birthday!\")\n",
    "    else:\n",
    "        print(\"That number doesn't correspond with a month. Please put in a number between 1 and 12\")\n",
    "except:\n",
    "    print(\"Please put in a number between 1 and 12\")\n",
    "\n"
   ]
  },
  {
   "cell_type": "code",
   "execution_count": null,
   "metadata": {},
   "outputs": [],
   "source": []
  }
 ],
 "metadata": {
  "kernelspec": {
   "display_name": "Python 3",
   "language": "python",
   "name": "python3"
  },
  "language_info": {
   "codemirror_mode": {
    "name": "ipython",
    "version": 3
   },
   "file_extension": ".py",
   "mimetype": "text/x-python",
   "name": "python",
   "nbconvert_exporter": "python",
   "pygments_lexer": "ipython3",
   "version": "3.8.5"
  }
 },
 "nbformat": 4,
 "nbformat_minor": 5
}
